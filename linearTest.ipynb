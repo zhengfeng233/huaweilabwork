{
 "cells": [
  {
   "cell_type": "code",
   "execution_count": 1,
   "id": "4fc96bac-98b5-4517-990a-4c406c195146",
   "metadata": {},
   "outputs": [],
   "source": [
    "import os\n",
    "#os.environ['DEVICE_ID'] = '0'\n",
    "import numpy as np\n",
    "\n",
    "import mindspore as ms\n",
    "from mindspore import nn\n",
    "from mindspore import context\n",
    "#当前实验选择算力为Ascend，如果在本地体验，参数device_target设置为\"CPU”\n",
    "\n",
    "context.set_context(mode=context.GRAPH_MODE, device_target=\"Ascend\")"
   ]
  },
  {
   "cell_type": "code",
   "execution_count": 2,
   "id": "fa8a70d0-b4d3-42fe-9932-2fbb741300db",
   "metadata": {},
   "outputs": [],
   "source": [
    "x = np.arange(-5, 5, 0.3)[:32].reshape((32, 1))\n",
    "y = -5 * x +  0.1 * np.random.normal(loc=0.0, scale=20.0, size=x.shape)"
   ]
  },
  {
   "cell_type": "code",
   "execution_count": 3,
   "id": "59649bbb-06be-487d-ae31-1c6fe6a48946",
   "metadata": {},
   "outputs": [],
   "source": [
    "net = nn.Dense(1, 1)\n",
    "loss_fn = nn.loss.MSELoss()\n",
    "opt = nn.optim.SGD(net.trainable_params(), learning_rate=0.01)\n",
    "with_loss = nn.WithLossCell(net, loss_fn)\n",
    "train_step = nn.TrainOneStepCell(with_loss, opt).set_train()"
   ]
  },
  {
   "cell_type": "code",
   "execution_count": 7,
   "id": "08a32022-54a8-4085-a507-c717d9fa3d81",
   "metadata": {},
   "outputs": [
    {
     "name": "stdout",
     "output_type": "stream",
     "text": [
      "epoch: 19, loss is 3.7629876\n"
     ]
    }
   ],
   "source": [
    "for epoch in range(20):\n",
    "    loss = train_step(ms.Tensor(x, ms.float32), ms.Tensor(y, ms.float32))\n",
    "print('epoch: {0}, loss is {1}'.format(epoch, loss))"
   ]
  },
  {
   "cell_type": "code",
   "execution_count": 8,
   "id": "bc9fed18-678c-4d57-b446-6ebd93a35cfe",
   "metadata": {},
   "outputs": [
    {
     "name": "stdout",
     "output_type": "stream",
     "text": [
      "The true linear function is y = -5 * x + 0.1\n",
      "The trained linear model is y = -5.016057968139648 * x + -0.26624059677124023\n",
      "x = -10, predicted y = [[49.89434]]\n",
      "x = -5, predicted y = [[24.814049]]\n",
      "x = 0, predicted y = [[-0.2662406]]\n",
      "x = 5, predicted y = [[-25.34653]]\n",
      "x = 10, predicted y = [[-50.42682]]\n"
     ]
    }
   ],
   "source": [
    "wb = [x.asnumpy() for x in net.trainable_params()]\n",
    "w, b = np.squeeze(wb[0]), np.squeeze(wb[1])\n",
    "print('The true linear function is y = -5 * x + 0.1')\n",
    "print('The trained linear model is y = {0} * x + {1}'.format(w, b))\n",
    "\n",
    "for i in range(-10, 11, 5):\n",
    "    print('x = {0}, predicted y = {1}'.format(i, net(ms.Tensor([[i]], ms.float32))))"
   ]
  },
  {
   "cell_type": "code",
   "execution_count": 9,
   "id": "f914deed-82d2-44e7-bc14-a495339f308f",
   "metadata": {},
   "outputs": [
    {
     "data": {
      "text/plain": [
       "<matplotlib.legend.Legend at 0xffff0c572110>"
      ]
     },
     "execution_count": 9,
     "metadata": {},
     "output_type": "execute_result"
    },
    {
     "data": {
      "image/png": "[encoded data removed]",
      "text/plain": [
       "<Figure size 432x288 with 1 Axes>"
      ]
     },
     "metadata": {
      "needs_background": "light"
     },
     "output_type": "display_data"
    },
    {
     "name": "stdout",
     "output_type": "stream",
     "text": [
      "\n"
     ]
    }
   ],
   "source": [
    "from matplotlib import pyplot as plt\n",
    "%matplotlib inline\n",
    "plt.scatter(x, y, label='Samples')\n",
    "plt.plot(x, w * x +  b, c='r', label='True function')\n",
    "plt.plot(x, -5 * x +  0.1, c='b', label='Trained model')\n",
    "plt.legend()"
   ]
  }
 ],
 "metadata": {
  "kernelspec": {
   "display_name": "MindSpore",
   "language": "python",
   "name": "mindspore"
  },
  "language_info": {
   "codemirror_mode": {
    "name": "ipython",
    "version": 3
   },
   "file_extension": ".py",
   "mimetype": "text/x-python",
   "name": "python",
   "nbconvert_exporter": "python",
   "pygments_lexer": "ipython3",
   "version": "3.7.6"
  }
 },
 "nbformat": 4,
 "nbformat_minor": 5
}
